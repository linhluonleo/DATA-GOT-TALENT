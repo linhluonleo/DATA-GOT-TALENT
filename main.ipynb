{
 "cells": [
  {
   "cell_type": "markdown",
   "metadata": {},
   "source": [
    "## 1. Khai báo thư viện"
   ]
  },
  {
   "cell_type": "code",
   "execution_count": null,
   "metadata": {},
   "outputs": [],
   "source": [
    "import pandas as pd\n",
    "import numpy as np\n",
    "import re\n",
    "from datetime import datetime, timedelta\n",
    "import matplotlib.pyplot as plt"
   ]
  },
  {
   "cell_type": "markdown",
   "metadata": {},
   "source": [
    "## 2. Đọc dữ liệu"
   ]
  },
  {
   "cell_type": "code",
   "execution_count": null,
   "metadata": {},
   "outputs": [],
   "source": [
    "data = pd.ExcelFile(\"data/DATA-SET-VÒNG-1-CUỘC-THI-DATA-GOT-TALENT-2023.xlsx\")\n",
    "customer = pd.read_excel(data, \"customer\")\n",
    "ticket = pd.read_excel(data, \"ticket\")\n",
    "film = pd.read_excel(data, \"film\")"
   ]
  },
  {
   "cell_type": "markdown",
   "metadata": {},
   "source": [
    "## 3. Mô tả dữ liệu"
   ]
  },
  {
   "cell_type": "code",
   "execution_count": null,
   "metadata": {},
   "outputs": [],
   "source": [
    "# Kích thước dữ liệu của bảng customer\n",
    "customer.shape"
   ]
  },
  {
   "cell_type": "code",
   "execution_count": null,
   "metadata": {},
   "outputs": [],
   "source": [
    "# Dữ liệu 10 dòng đầu của bảng customer\n",
    "customer.head(10)"
   ]
  },
  {
   "cell_type": "code",
   "execution_count": null,
   "metadata": {},
   "outputs": [],
   "source": [
    "# Dữ liệu 10 dòng cuối của bảng customer\n",
    "customer.tail(10)"
   ]
  },
  {
   "cell_type": "code",
   "execution_count": null,
   "metadata": {},
   "outputs": [],
   "source": [
    "# Kiểu dữ liệu của bảng customer\n",
    "customer.info()"
   ]
  },
  {
   "cell_type": "code",
   "execution_count": null,
   "metadata": {},
   "outputs": [],
   "source": [
    "# Kích thước dữ liệu của bảng ticket\n",
    "ticket.shape"
   ]
  },
  {
   "cell_type": "code",
   "execution_count": null,
   "metadata": {},
   "outputs": [],
   "source": [
    "# Dữ liệu 10 dòng đầu tiên của bảng ticket\n",
    "ticket.head(10)"
   ]
  },
  {
   "cell_type": "code",
   "execution_count": null,
   "metadata": {},
   "outputs": [],
   "source": [
    "# Dữ liệu 10 dòng cuối cùng của bảng ticket\n",
    "ticket.tail(10)"
   ]
  },
  {
   "cell_type": "code",
   "execution_count": null,
   "metadata": {},
   "outputs": [],
   "source": [
    "# Kiểu dữ liệu của bảng ticket\n",
    "ticket.info()"
   ]
  },
  {
   "cell_type": "code",
   "execution_count": null,
   "metadata": {},
   "outputs": [],
   "source": [
    "# Kích thước dữ liệu của bảng film\n",
    "film.shape"
   ]
  },
  {
   "cell_type": "code",
   "execution_count": null,
   "metadata": {},
   "outputs": [],
   "source": [
    "# Dữ liệu 10 dòng đầu tiên của bảng film\n",
    "film.head(10)"
   ]
  },
  {
   "cell_type": "code",
   "execution_count": null,
   "metadata": {},
   "outputs": [],
   "source": [
    "# Dữ liệu 10 dòng cuối cùng của bảng film\n",
    "film.tail(10)"
   ]
  },
  {
   "cell_type": "code",
   "execution_count": null,
   "metadata": {},
   "outputs": [],
   "source": [
    "# Kiểu dữ liệu của bảng film\n",
    "film.info()"
   ]
  },
  {
   "cell_type": "markdown",
   "metadata": {},
   "source": [
    "**Chú thích**\n",
    "\n",
    "- Bảng **`customer`**:\n",
    "    - Xuất hiện dòng có giá trị ở cột `customerid` có một dấu chấm ở cuối khác so với các dòng khác\n",
    "    - Những dòng có giá trị ở cột `job` là \"teenager\" thì sẽ bị thiếu giá trị ở cột `industry`\n",
    "- Bảng **`ticket`**:\n",
    "    - Không phải mỗi vé trong bảng là một lần đặt\n",
    "    - Các vé có cùng lần đặt sẽ có cùng giá trị ở cột `orderid`\n",
    "    - Có 4 vé trong bảng bị thiếu dữ liệu (Khách hàng đặt vé trên website)\n",
    "- Bảng **`film`**:"
   ]
  },
  {
   "cell_type": "markdown",
   "metadata": {},
   "source": [
    "## Bước 4: Làm sạch và xử lý dữ liệu"
   ]
  },
  {
   "cell_type": "code",
   "execution_count": null,
   "metadata": {},
   "outputs": [],
   "source": [
    "# chuẩn hóa lại tên cột theo chung một chuẩn\n",
    "customer.columns = [re.sub(\" \",\"_\",c).lower().strip() for c in customer.columns]\n",
    "ticket.columns = [re.sub(\" \",\"_\",c).lower().strip() for c in ticket.columns]\n",
    "film.columns = [re.sub(\" \",\"_\",c).lower().strip() for c in film.columns]\n",
    "\n",
    "# sửa lại \"customerid\" của một khách hàng bị thừa dấu chấm\n",
    "customer[\"customerid\"] = [re.sub(r\"\\.\", \"\", c) for c in customer[\"customerid\"]]\n",
    "ticket[\"customerid\"] = [re.sub(r\"\\.\", \"\", c) for c in ticket[\"customerid\"]]"
   ]
  },
  {
   "cell_type": "code",
   "execution_count": null,
   "metadata": {},
   "outputs": [],
   "source": [
    "# biến đổi cột \"dob\" thành định dạng ngày và thêm cột \"age\" để lưu tuổi của mỗi khách hàng\n",
    "base_date = datetime(1899, 12, 30, 0, 0, 0)\n",
    "customer[\"dob\"] = [(base_date + timedelta(days=date)) for date in customer[\"dob\"]]\n",
    "current_day = datetime.now()\n",
    "dob_list = customer[\"dob\"]\n",
    "age_list = []\n",
    "for day in dob_list:\n",
    "    age = current_day.year - day.year\n",
    "    age_list.append(age)\n",
    "customer.insert(2,\"age\",age_list)\n",
    "\n",
    "\n",
    "# tính tổng số lượng khách hàng theo độ tuổi\n",
    "age_count = customer[\"age\"].value_counts().sort_index().reset_index()\n",
    "age_count"
   ]
  },
  {
   "cell_type": "code",
   "execution_count": null,
   "metadata": {},
   "outputs": [],
   "source": [
    "# loại bỏ những khách hàng có tuổi âm\n",
    "customer = customer.drop(customer[customer[\"age\"]<=0].index)\n",
    "age_count = customer[\"age\"].value_counts().sort_index().reset_index()\n",
    "customer[\"dob\"] = pd.to_datetime(customer[\"dob\"])\n",
    "customer[\"dob\"] = customer[\"dob\"].dt.strftime('%Y-%m-%d')\n",
    "age_count"
   ]
  },
  {
   "cell_type": "code",
   "execution_count": null,
   "metadata": {},
   "outputs": [],
   "source": [
    "# vẽ biểu đồ thể hiện số lượng khách hàng theo độ tuổi\n",
    "fig, ax = plt.subplots(figsize=(15,5))\n",
    "\n",
    "ax = plt.bar(x = \"age\", height= \"count\", data=age_count)\n",
    "plt.xticks(np.arange(0,61,2))\n",
    "plt.yticks(np.arange(0,501,50))\n",
    "plt.show()"
   ]
  },
  {
   "cell_type": "code",
   "execution_count": null,
   "metadata": {},
   "outputs": [],
   "source": [
    "# tính tổng số lượng khách hàng theo giới tính\n",
    "gender_count = customer[\"gender\"].value_counts()\n",
    "gender_count"
   ]
  },
  {
   "cell_type": "code",
   "execution_count": null,
   "metadata": {},
   "outputs": [],
   "source": [
    "# tính tổng số lượng khách hàng theo công việc\n",
    "job_count = customer[\"job\"].value_counts().reset_index()\n",
    "job_count"
   ]
  },
  {
   "cell_type": "code",
   "execution_count": null,
   "metadata": {},
   "outputs": [],
   "source": [
    "# vẽ biểu đồ thể hiện tổng số lượng khách hàng theo công việc\n",
    "fix , ax = plt.subplots(figsize=(10,5))\n",
    "\n",
    "x = [x for x in range(len(job_count))]\n",
    "colors = plt.get_cmap('Blues')(np.linspace(0.2, 0.7, len(x)))\n",
    "\n",
    "ax.pie(x=\"count\",labels=\"job\",colors=colors , autopct=\"%1.1f%%\", data=job_count)\n",
    "plt.show()"
   ]
  },
  {
   "cell_type": "code",
   "execution_count": null,
   "metadata": {},
   "outputs": [],
   "source": [
    "# tính tổng số lượng vé được đặt trên website\n",
    "website_order_count = ticket[\"orderid\"].isnull().sum()\n",
    "website_order_count"
   ]
  },
  {
   "cell_type": "code",
   "execution_count": null,
   "metadata": {},
   "outputs": [],
   "source": [
    "# tính tổng số lượng vé theo thời gian chiếu\n",
    "time_count = ticket[\"time\"].value_counts().sort_values(ascending=False).reset_index()\n",
    "time_count.head(10)"
   ]
  },
  {
   "cell_type": "code",
   "execution_count": null,
   "metadata": {},
   "outputs": [],
   "source": [
    "# thêm cột \"day_nam\" hiển thị thứ từ cột \"date\"\n",
    "day_list = ticket[\"date\"].tolist()\n",
    "day_name_list = []\n",
    "for day in day_list:\n",
    "    day_name = day.strftime(\"%A\")\n",
    "    day_name_list.append(day_name)\n",
    "ticket.insert(7,\"day_name\",day_name_list)\n",
    "ticket[\"saledate\"] = ticket[\"saledate\"].dt.strftime('%Y-%m-%d')\n",
    "ticket[\"date\"] = ticket[\"date\"].dt.strftime('%Y-%m-%d')\n",
    "ticket"
   ]
  },
  {
   "cell_type": "code",
   "execution_count": null,
   "metadata": {},
   "outputs": [],
   "source": [
    "# tính tổng số lượng và doanh thu theo ngày trong tháng\n",
    "ticket_count_month = ticket[\"date\"].value_counts().sort_index().reset_index()\n",
    "ticket_price_sum_month = ticket.groupby(\"date\").sum(\"ticket_price\")[\"ticket_price\"].sort_index().reset_index()\n",
    "ticket_month = pd.merge(ticket_count_month, ticket_price_sum_month, how=\"outer\", on=\"date\")\n",
    "ticket_month"
   ]
  },
  {
   "cell_type": "code",
   "execution_count": null,
   "metadata": {},
   "outputs": [],
   "source": [
    "# vẽ biểu đồ thể hiện tổng số lượng và doanh thu theo ngày trong tháng\n",
    "fig, ax = plt.subplots(figsize=(10,5))\n",
    "\n",
    "color1 = \"orangered\"\n",
    "color2 = \"royalblue\"\n",
    "\n",
    "ax.plot(\"date\", \"ticket_price\", data=ticket_month, color=color1)\n",
    "ax.set_ylabel('Doanh thu theo ngày trong tháng', color=color1)\n",
    "ax.tick_params(axis='y', labelcolor=color1)\n",
    "ax2 = ax.twinx()\n",
    "ax2.plot(\"date\", \"count\", data=ticket_month,color=color2)\n",
    "ax2.set_ylabel('Tổng số lượng vé bán được theo ngày trong tháng', color=color2)\n",
    "ax2.tick_params(axis='y', labelcolor=color2)\n",
    "ax.set_xticks(range(len(ticket_month[\"date\"])))\n",
    "ax.set_xticklabels(ticket_month[\"date\"], rotation=90)\n",
    "plt.show()"
   ]
  },
  {
   "cell_type": "code",
   "execution_count": null,
   "metadata": {},
   "outputs": [],
   "source": [
    "# tính tổng số lượng và doanh thu theo ngày trong tuần\n",
    "order = [\"Monday\", \"Tuesday\", \"Wednesday\",\"Thursday\" , \"Friday\", \"Saturday\", \"Sunday\"]\n",
    "ticket_count_week = ticket[\"day_name\"].value_counts().reindex(order).reset_index()\n",
    "ticket_price_sum_week = ticket.groupby(\"day_name\").sum(\"ticket_price\")[\"ticket_price\"].reindex(order).reset_index()\n",
    "ticket_week = pd.merge(ticket_count_week, ticket_price_sum_week, how= \"outer\", on = \"day_name\")\n",
    "ticket_week"
   ]
  },
  {
   "cell_type": "code",
   "execution_count": null,
   "metadata": {},
   "outputs": [],
   "source": [
    "# vẽ biểu đồ thể hiện tổng số lượng và doanh thu theo ngày trong tuần\n",
    "fix, ax = plt.subplots(figsize=(10,5))\n",
    "\n",
    "ax.bar(x = \"day_name\", height= \"count\", width=0.4, data=ticket_week, color=color1)\n",
    "ax.set_ylabel('Doanh thu theo ngày trong tuần', color=color1)\n",
    "ax.tick_params(axis='y', labelcolor=color1)\n",
    "ax2 = ax.twinx()\n",
    "ax2.plot(\"day_name\", \"ticket_price\", data=ticket_week, color=color2)\n",
    "ax2.set_ylabel('Tổng số lượng vé bán được theo ngày trong tuần', color=color2)\n",
    "ax2.tick_params(axis='y', labelcolor=color2)\n",
    "\n",
    "plt.show()"
   ]
  },
  {
   "cell_type": "code",
   "execution_count": null,
   "metadata": {},
   "outputs": [],
   "source": [
    "# xuất dữ liệu ra từng file tương ứng\n",
    "customer.to_excel(\"data/customer.xlsx\",index=False)\n",
    "ticket.to_excel(\"data/ticket.xlsx\", index=False)\n",
    "film.to_excel(\"data/film.xlsx\", index=False)"
   ]
  }
 ],
 "metadata": {
  "kernelspec": {
   "display_name": "Python 3",
   "language": "python",
   "name": "python3"
  },
  "language_info": {
   "codemirror_mode": {
    "name": "ipython",
    "version": 3
   },
   "file_extension": ".py",
   "mimetype": "text/x-python",
   "name": "python",
   "nbconvert_exporter": "python",
   "pygments_lexer": "ipython3",
   "version": "3.11.7"
  }
 },
 "nbformat": 4,
 "nbformat_minor": 2
}
